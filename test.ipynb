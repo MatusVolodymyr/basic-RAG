{
 "cells": [
  {
   "cell_type": "code",
   "execution_count": 1,
   "metadata": {},
   "outputs": [
    {
     "name": "stderr",
     "output_type": "stream",
     "text": [
      "d:\\anaconda\\envs\\rag_system\\Lib\\site-packages\\tqdm\\auto.py:21: TqdmWarning: IProgress not found. Please update jupyter and ipywidgets. See https://ipywidgets.readthedocs.io/en/stable/user_install.html\n",
      "  from .autonotebook import tqdm as notebook_tqdm\n"
     ]
    }
   ],
   "source": [
    "import database\n",
    "import file_loader\n",
    "import embedding\n",
    "import generation_model"
   ]
  },
  {
   "cell_type": "code",
   "execution_count": 2,
   "metadata": {},
   "outputs": [],
   "source": [
    "db_handler = database.DatabaseConnection()"
   ]
  },
  {
   "cell_type": "code",
   "execution_count": 3,
   "metadata": {},
   "outputs": [],
   "source": [
    "documents = file_loader.load_texts_from_directory('documents')"
   ]
  },
  {
   "cell_type": "code",
   "execution_count": 4,
   "metadata": {},
   "outputs": [
    {
     "data": {
      "text/plain": [
       "{'documents\\\\behaviuor1.txt': 'Children throw tantrums when they are overwhelmed by strong emotions, overstimulated, or anxious. Young children may have tantrums because of strong emotions, while older children may have tantrums because they don\\'t know how to express or manage their feelings. Overstimulation can also cause tantrums, as children don\\'t always recognize when bright lights or loud noises are bothering them. Anxiety can also cause tantrums, such as when a child feels anxious due to an unexpected event, unrealistic demand, or lack of routine.\\n \\nTantrums may happen when kids are tired, hungry, or uncomfortable. They can have a meltdown because they can\\'t have something they want (like a toy or candy) or can’t get someone to do what they want (like getting a parent to pay attention to them immediately or getting a sibling to give up the tablet). Learning to deal with frustration is a skill that children gain over time.\\n\\nTantrums are common during the second year of life, when language skills are developing. Because toddlers can\\'t always say what they want or need, and because words describing feelings are more complicated and develop later, a frustrating experience may cause a tantrum. As language skills improve, tantrums tend to decrease.\\nToddlers want independence and control over their environment — more than they can actually handle. This can lead to power struggles as a child thinks \"I can do it myself\" or \"I want it, give it to me.\" When kids discover that they can\\'t do it and can\\'t have everything they want, they may have a tantrum.\\nHow Can We Avoid Tantrums?\\nTry to prevent tantrums from happening in the first place, whenever possible. Here are some ideas that may help:\\n    • Give plenty of positive attention. Get in the habit of catching your child being good. Reward your little one with praise and attention for positive behavior. Be specific about praising behaviors you want to see happen more often (such as, “I like the way you said please and waited for your milk” or “Thank you for sharing the blocks with your sister.”)\\n    • Try to give toddlers some control over little things. Offer minor choices such as \"Do you want orange juice or apple juice?\" or \"Do you want to brush your teeth before or after taking a bath?\" This way, you aren\\'t asking \"Do you want to brush your teeth now?\" — which of course will be answered \"no.\" Allow control when it doesn’t really matter. Instead of struggling over an outfit your child puts on that doesn’t match, for example, consider whether this may be an opportunity to allow self-expression and independence and if it really makes a difference given the day\\'s schedule.\\n    • Keep off-limits objects out of sight and out of reach. This makes struggles less likely. Obviously, this isn\\'t always possible, especially outside of the home where the environment can\\'t be controlled.\\n    • Distract your child. Try offering something else in place of what they can\\'t have. Start a new activity to replace the frustrating or forbidden one (for example, if your child is jumping on the couch, ask them to come help you “cook” by offering a plastic container and wooden spoon. Then you can praise them for helping or following directions, rather than having them start a tantrum or refuse to get down). Or simply change the environment. Take your toddler outside or inside or move to a different room.\\n    • Help kids learn new skills and succeed.\\xa0Help kids learn to do things. Praise them to help them feel proud of what they can do. Also, start with something simple before moving on to more challenging tasks.\\n    • Consider the request carefully when your child wants something.\\xa0Is it outrageous? Maybe it isn\\'t. Choose your battles.\\xa0It\\'s even OK to change your mind if you originally said no\\xa0— but find a way to allow the desired treat as a reward for good behavior.\\n    • Know your child\\'s limits.\\xa0If you know your toddler is tired, it\\'s not the best time to go grocery shopping or try to squeeze in one more errand.\\xa0Hungry kids are more likely to demand food in the store than children who have just had a meal (just like adults!).\\nWhat Should I Do During a Tantrum?\\nKeep your cool when responding to a tantrum. Don\\'t complicate the problem with your own frustration or anger. Remind yourself that your job is helping your child\\xa0learn to calm down. So you need to be calm too.\\nTantrums should be handled differently depending on why your child is upset. Sometimes, you may need to provide comfort. If your child is tired or hungry, it\\'s time for a nap or a snack. Other times, its best to ignore an outburst or distract your child with a new activity.\\nIf a tantrum is happening to get attention from parents, one of the best ways to reduce this behavior is to ignore it. If a tantrum happens after your child is refused something, stay calm and don\\'t give a lot of explanations for why your child can\\'t have what they want. Move on to another activity with your child.\\nIf a tantrum happens after your child is told to do something they don\\'t want to do, it\\'s best to ignore the tantrum. But be sure that you follow through on having your child complete the task after they\\'re calm.\\nKids who are in danger of hurting themselves or others during a tantrum should be taken to a quiet, safe place to calm down. This also applies to tantrums in public places.\\nIf a safety issue is involved and a toddler repeats the forbidden behavior after being told to stop, use a time-out by sitting the child on a designated chair or in the corner for just a few minutes. Be nearby so that you can supervise, but do not interact until they are calm. Be consistent. Don\\'t give in on safety issues.\\nPreschoolers and older kids are more likely to use tantrums to get their way if they\\'ve learned that this behavior works. For school-age kids, it\\'s appropriate to send them to their rooms to cool off while paying little attention to the behavior.\\nLet your child know that you will tell them when the time-out is over and that the sooner they are calm and quiet, the sooner it will end. This is empowering — kids can affect the outcome by their own actions, and thus gain a sense of control that was lost during the tantrum.\\nDo\\xa0not\\xa0reward your child\\'s tantrum by giving in. This will only prove to your little one that the tantrum was effective.\\nConsider making a “chill out” or “calm down” spot in your home (some teachers use this in preschool, as well). Use a soft cushion and provide books, a stuffed animal, some soft music, and other calming activities in a place where others won’t disturb the child. Encourage your child to go to the spot when angry or upset\\xa0— not as a punishment, but as a choice and an opportunity to learn to calm down and control frustration.\\nWhat Should I Do After a Tantrum?\\nPraise your child for regaining control\\xa0— for example, \"I like how you calmed down.\"\\nKids may be especially vulnerable after a tantrum when they know they\\'ve been less than adorable. Now (when your child is calm)\\xa0is the time for a hug and reassurance that your child is loved, no matter what.\\xa0If your child is old enough to discuss the problem, help them come up with some other ways they might have expressed their frustration.\\nMake sure your child gets enough sleep. With too little sleep, kids can become hyper, disagreeable, and have extremes in behavior. Getting enough sleep can greatly reduce tantrums. Find out how much sleep is needed at your child’s age. Most kids\\'\\xa0sleep needs\\xa0fall within a set range of hours based on their age, but each child is unique.\\n',\n",
       " 'documents\\\\behaviuor2.txt': '\\nThis is because young children are still at an early stage of social, emotional and language development. They can’t always communicate their needs and feelings, including the desire to do things for themselves, so they might get frustrated. And they’re learning that how they behave influences others. So tantrums are one of the ways that young children express and manage feelings, and try to understand or change what’s going on around them.\\nOlder children\\xa0can have tantrums too. This can be because they haven’t yet learned safe ways to express or manage feelings.\\nFor both\\xa0toddlers and older children, there are things that can make tantrums more likely to happen:\\n    • Temperament\\xa0– this influences how quickly and strongly children react to things like frustrating events or changes in their environment. Children who are more sensitive might be more easily upset by these things.\\n    • Stress, hunger, tiredness and\\xa0overstimulation\\xa0– these can make it harder for children to express and manage feelings and stay calm.\\n    • Situations that children just can’t cope with – for example, a toddler might have trouble coping if an older child takes a toy away.\\n    • Strong emotions – worry, fear, shame and anger can be overwhelming for children.\\nSelf-regulation\\xa0is the ability to understand and manage feelings and reactions. Children start developing it from around 12 months. As your child gets older, they’ll be more able to regulate reactions and calm down when something upsetting happens. You’ll see fewer tantrums as a result.\\nHow to make tantrums less likely\\nThese are a few things you can do to make tantrums less likely to happen:\\n    • Help your child understand their emotions.\\xa0You can do this from birth by using words to label feelings like ‘happy’, ‘sad’, ‘cross’, ‘tired’, ‘hungry’ and ‘comfy’.\\n    • Identify tantrum triggers like tiredness, hunger, worries, fears or overstimulation. You might be able to\\xa0plan for these situations\\xa0and avoid the triggers – for example, by going shopping after your child has had a nap or something to eat.\\n    • When your child handles a difficult situation without a tantrum, encourage them to tune in to how this feels. For example, ‘I just saw you build that tower again without getting upset when it fell. How did that feel? Did you feel strong and calm?’\\n    • Talk about emotions after a tantrum when your child is calm. For example, ‘Did you throw that toy because you were cross that it wasn’t working? What else could you have done?’\\n    • Model positive reactions to stress. For example, ‘I’m worried this traffic is making us late. If I take some deep breaths, it will help me stay calm’.\\nSome young children who are still learning to speak have tantrums because they’re frustrated. Teaching your child some\\xa0key word signs\\xa0for words like ‘angry’ or ‘hungry’ can help until they learn the words to say instead.\\nHow to handle tantrums when they happen\\nSometimes tantrums happen, no matter what you do to avoid them. When a tantrum happens,\\xa0the way to respond depends on your child’s age:\\n    • For toddlers,\\xa0time-in\\xa0works well – stay close, offer comfort, and reassure children that you understand their feelings.\\n    • For older children, you can use\\xa05 calming down steps\\xa0– identify the emotion, name it, pause, support your child while they calm down, and address the issue that sparked the tantrum.\\nAnd\\xa0these tips might help tantrums pass with less distress\\xa0for everyone:\\n    • Make sure that your child and others nearby are safe. This might mean carrying your child somewhere else if you need to.\\n    • Once your child is in a safe place, calmly acknowledge the emotion they’re expressing – speak slowly and in a low voice.\\n    • Stay quietly with your child until they calm down. Touch or hold them if they want you to, or give them more physical space if they need it. Don’t try to reason with your child.\\n    • Be consistent about not giving in to demands. This will help your child learn that tantrums don’t help them get what they want.\\n    • Try a ‘paradoxical instruction’. This means giving your child permission to scream and shout until they’re ready to stop. For example, ‘You can yell louder if you want to. It’s a big park and we’re not bothering anyone’.\\n    • Comfort your child when they’ve calmed down. A tantrum is distressing for everyone.\\nCoping with tantrums: managing your own feelings\\nIf you can stay calm when your child is having a tantrum, it gives your child a model of calm behaviour. Here are ideas for staying calm and keeping things in perspective during tantrums:\\n    • Have a clear plan for how you’ll handle a tantrum in whatever situation you’re in. Concentrate on putting your plan into action when the tantrum happens.\\n    • Accept that you can’t control your child’s emotions or behaviour directly. You can only keep your child safe and guide their behaviour so tantrums are less likely to happen in the future.\\n    • Accept that it takes time for change to happen. Your child has a lot of growing up to do before tantrums are gone forever. Developing and practising self-regulation skills is a life-long task.\\n    • Beware of thinking that your child is doing it on purpose or trying to upset you. Children don’t have tantrums deliberately. They’re stuck in a bad habit or don’t have the skills right now to cope with the situation.\\n    • Keep your sense of humour. But don’t laugh at the tantrum – if you do, it might reward your child with attention. It might also upset your child even more if they think you’re laughing at them.\\n    • If other people give you dirty looks, ignore them. They’ve either never had children or it’s been so long that they’ve forgotten what it’s like.\\n\\n\\n',\n",
       " 'documents\\\\behaviuor3.txt': '“I want a candy bar!”\\nYour 2-year-old daughter stands screaming in the middle of the grocery store checkout line as you look on in shock. With tears flowing, fists clenched, and her piercing wail echoing throughout the entire store, she is the absolute center of attention. \\nYour 9-year-old son sits in the backseat of your minivan, his arms folded across his chest in pure defiance. He had wanted to go to the mall with his friends by himself, but you insisted on going as a chaperone.\\n“I promise, I will keep my distance,” you assure him. “You’re simply too young to go alone.”\\nHowever, your assurance does little to change his attitude. After spending the entire drive yelling at you for being so unfair, he’s now giving you the silent treatment. \\nYour 16-year-old storms out of the house, slamming the door behind her as she makes her exit. “You’re being completely unfair!” she yells over her shoulder.\\nAll you had asked her to do was to fill up the car with gas after she finished using it. Was that so unreasonable?\\n\\nIt wasn’t supposed to be like this.\\nYou made it through the Terrible Twos, survived the Threenage years, and held on tight through all of the turmoil your Fournado brought about. Then, just when you thought the worst was behind you, you realized the cold, hard truth.\\nTantrums happen.\\nAnytime. Anywhere. And at any age.\\n\\n\\nWhile there are plenty of tactics and tools parents can use to prevent temper tantrums from happening, there is no hard and clear rule that says tantrums are limited to a certain age group. \\nIn fact, even adults give in to the occasional tantrum every now and then.\\nWhile tantrums may happen at every age, they begin to look different as children grow. The crocodile tears and high pitched screams suddenly turn into eye rolls and slammed doors. The possibilities are endless and can be endlessly confusing for a stressed-out parent. \\nSo whether you have a toddler, a preschooler, a tween, or a teen, there is no better time to take a deeper look at tantrums through the ages than right now. Because when you have a better understanding of the role tantrums play at different ages, you’ll start to learn how to handle each one specifically; making your life–and your child’s–much less chaotic.\\n\\nToddler Tantrums (Ages 12 months to 4)\\n\\nTantrums during the ages of 12 months to 4 years are quite common as children are still learning to manage their emotions and communicate effectively. Here\\'s what you might expect and some strategies to handle them:\\n\\nUnderstanding Triggers: Tantrums can be triggered by various factors such as frustration, fatigue, hunger, changes in routine, or a desire for independence.\\n\\nIntensity: Tantrums at this age can range from mild whining to full-blown screaming, kicking, and hitting. They can be intense and overwhelming for both the child and the caregiver.\\n\\nCommunication Challenges: Children at this age may not have the vocabulary to express their feelings or needs verbally, leading to frustration and tantrums.\\n\\nHandling Tantrums:\\n\\nStay Calm: It\\'s essential to remain calm and composed during a tantrum. Your calm demeanor can help de-escalate the situation.\\nValidate Feelings: Acknowledge your child\\'s feelings even if you can\\'t fulfill their request. Saying something like, \"I understand that you\\'re upset because you can\\'t have the toy right now\" can help them feel heard.\\nOffer Choices: Providing choices within limits can give your child a sense of control. For example, you can say, \"You can\\'t have candy now, but you can choose a healthy snack.\"\\nDistraction: Sometimes, redirecting your child\\'s attention to something else can help diffuse the tantrum.\\nSet Clear Limits: Establishing consistent rules and boundaries can prevent tantrums triggered by confusion or uncertainty.\\nUse Positive Reinforcement: Praise your child when they manage their emotions well or express their needs calmly.\\nTeach Coping Skills: Help your child learn age-appropriate coping strategies like taking deep breaths or counting to ten when they feel upset.\\nPrevention: Anticipating and addressing potential triggers before they escalate into a tantrum can be helpful. Ensure your child is well-rested, fed, and engaged in age-appropriate activities.\\n\\nSeek Support: Parenting can be challenging, especially when dealing with tantrums. Don\\'t hesitate to seek support from other parents, caregivers, or professionals if you\\'re feeling overwhelmed.\\n\\nRemember, every child is different, and what works for one may not work for another. Consistency, patience, and empathy are key when handling tantrums during this developmental stage.\\n\\nTantrums between age 5years to 12 years:\\nTantrums in children aged 5 to 12 can vary widely in intensity and frequency, but they often involve expressions of frustration, anger, or distress. At this age, children are developing more independence and social skills, but they still may struggle with managing their emotions effectively. Here\\'s what tantrums might look like during this age range and some strategies for handling them:\\n\\nEmotional Outbursts: Children may exhibit intense emotional reactions when they don\\'t get what they want or when they feel overwhelmed. They might scream, cry, stomp their feet, or even become physically aggressive.\\n\\nResistance to Rules and Boundaries: As children grow, they may push back against rules and limits set by parents or caregivers. This resistance can sometimes manifest as tantrums, especially if they feel the rules are unfair or restrictive.\\n\\nDifficulty Managing Frustration: Kids in this age group are still learning how to cope with disappointment and setbacks. When things don\\'t go their way or when they encounter challenges, they may become frustrated and have tantrums as a result.\\n\\nSocial Influences: Peer interactions can also influence tantrum behavior. Children may experience frustration or jealousy in social situations, leading to outbursts or meltdowns.\\n\\nHandling tantrums in this age group requires patience, understanding, and consistency. Here are some tips:\\n\\nStay Calm: It\\'s essential to remain calm and composed during a tantrum. Getting upset or angry in response will only escalate the situation. Take deep breaths and try to maintain a neutral tone of voice.\\n\\nValidate Feelings: Acknowledge your child\\'s emotions, even if you don\\'t agree with their behavior. Let them know that it\\'s okay to feel angry, frustrated, or disappointed, but also emphasize that certain behaviors (like hitting or screaming) are not acceptable.\\n\\nSet Clear Expectations: Establish clear rules and boundaries for behavior, and communicate them to your child in a calm manner. Consistency is key—enforce consequences consistently when rules are broken, but also offer praise and rewards for positive behavior.\\n\\nOffer Choices: Give your child some control over their environment by offering choices whenever possible. For example, instead of telling them what to wear, give them a few options to choose from. This can help reduce power struggles and tantrums.\\n\\nTeach Coping Skills: Help your child develop healthy coping mechanisms for managing emotions. This could include deep breathing exercises, counting to ten, or taking a break in a quiet space to calm down.\\n\\nUse Positive Reinforcement: Catch your child being good and offer praise and rewards for positive behavior. This reinforces good behavior and encourages them to continue making positive choices.\\n\\n\\n'}"
      ]
     },
     "execution_count": 4,
     "metadata": {},
     "output_type": "execute_result"
    }
   ],
   "source": [
    "documents"
   ]
  },
  {
   "cell_type": "code",
   "execution_count": 5,
   "metadata": {},
   "outputs": [],
   "source": [
    "text_handler = embedding.TextChunkerEmbedder('sentence-transformers/all-MiniLM-L6-v2', 200)"
   ]
  },
  {
   "cell_type": "code",
   "execution_count": 6,
   "metadata": {},
   "outputs": [],
   "source": [
    "mapped_documents = text_handler.map_document_embeddings(documents)"
   ]
  },
  {
   "cell_type": "code",
   "execution_count": 7,
   "metadata": {},
   "outputs": [],
   "source": [
    "#db_handler.insert_document_embeddings(mapped_documents)"
   ]
  },
  {
   "cell_type": "code",
   "execution_count": 8,
   "metadata": {},
   "outputs": [],
   "source": [
    "query = \"How to make tantrums less likely to happen?\""
   ]
  },
  {
   "cell_type": "code",
   "execution_count": 10,
   "metadata": {},
   "outputs": [],
   "source": [
    "rag_model = generation_model.RAGSystem(db_handler, text_handler)"
   ]
  },
  {
   "cell_type": "code",
   "execution_count": 11,
   "metadata": {},
   "outputs": [
    {
     "data": {
      "text/plain": [
       "[('documents\\\\behaviuor3.txt',\n",
       "  \"how to cope with disappointment and setbacks. when things don ' t go their way or when they encounter challenges, they may become frustrated and have tantrums as a result. social influences : peer interactions can also influence tantrum behavior. children may experience frustration or jealousy in social situations, leading to outbursts or meltdowns. handling tantrums in this age group requires patience, understanding, and consistency. here are some tips : stay calm : it ' s essential to remain calm and composed during a tantrum. getting upset or angry in response will only escalate the situation. take deep breaths and try to maintain a neutral tone of voice. validate feelings : acknowledge your child ' s emotions, even if you don ' t agree with their behavior. let them know that it ' s okay to feel angry, frustrated, or disappointed, but also emphasize that certain behaviors ( like hitting or screaming ) are not acceptable. set clear expectations : establish clear rules and boundaries for behavior\"),\n",
       " ('documents\\\\behaviuor2.txt',\n",
       "  'happens. you ’ ll see fewer tantrums as a result. how to make tantrums less likely these are a few things you can do to make tantrums less likely to happen : • help your child understand their emotions. you can do this from birth by using words to label feelings like ‘ happy ’, ‘ sad ’, ‘ cross ’, ‘ tired ’, ‘ hungry ’ and ‘ comfy ’. • identify tantrum triggers like tiredness, hunger, worries, fears or overstimulation. you might be able to plan for these situations and avoid the triggers – for example, by going shopping after your child has had a nap or something to eat. • when your child handles a difficult situation without a tantrum, encourage them to tune in to how this feels. for example, ‘ i just saw you build that tower again without getting upset when it fell. how did that feel? did you feel strong and calm? ’ • talk about emotions after')]"
      ]
     },
     "execution_count": 11,
     "metadata": {},
     "output_type": "execute_result"
    }
   ],
   "source": [
    "rag_model.retrieve_relevant_chunks(query, 2)"
   ]
  },
  {
   "cell_type": "code",
   "execution_count": 13,
   "metadata": {},
   "outputs": [],
   "source": [
    "result = rag_model.generate_answer(query)"
   ]
  },
  {
   "cell_type": "code",
   "execution_count": 14,
   "metadata": {},
   "outputs": [
    {
     "data": {
      "text/plain": [
       "'Use a calming substance'"
      ]
     },
     "execution_count": 14,
     "metadata": {},
     "output_type": "execute_result"
    }
   ],
   "source": [
    "result"
   ]
  }
 ],
 "metadata": {
  "kernelspec": {
   "display_name": "rag_system",
   "language": "python",
   "name": "python3"
  },
  "language_info": {
   "codemirror_mode": {
    "name": "ipython",
    "version": 3
   },
   "file_extension": ".py",
   "mimetype": "text/x-python",
   "name": "python",
   "nbconvert_exporter": "python",
   "pygments_lexer": "ipython3",
   "version": "3.11.11"
  }
 },
 "nbformat": 4,
 "nbformat_minor": 2
}
